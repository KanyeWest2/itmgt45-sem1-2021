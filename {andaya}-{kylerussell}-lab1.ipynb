{
 "cells": [
  {
   "cell_type": "markdown",
   "id": "4c0c962f-7a6b-40b4-8b48-b5546612df35",
   "metadata": {},
   "source": [
    "# Assignment: Lab 1\n",
    "\n",
    "## Instructions\n",
    "\n",
    "This is the template file for the assignment of Module 4 called \"Lab 1.\" Please carefully follow the instructions below.\n",
    "\n",
    "1. Rename this file by filling out your surname and first name in the file name. For example, if your surname is Ilagan and if your first name is Joben, then rename the file to ILAGAN-JOBEN-lab1.ipynb.\n",
    "2. Fill out the markdown cell just above `Problem 1` with your student details as indicated.  \n",
    "3. To submit this file, first, upload your file to your GitHub repository and, second, submit your repository link to the assignment on Canvas."
   ]
  },
  {
   "cell_type": "markdown",
   "id": "bfe86ae2-822c-4c45-bc31-f1931327f36f",
   "metadata": {},
   "source": [
    "## Student Details\n",
    "\n",
    "##ID Number: 190248 \n",
    "##Surname: Andaya \n",
    "##Year and Course: 3 BS ITE "
   ]
  },
  {
   "cell_type": "markdown",
   "id": "831b75c5-94cd-48ee-818e-b2cc2bcd2df9",
   "metadata": {},
   "source": [
    "## Problem 1 (3 points)\n",
    "\n",
    "### Currency Converter  \n",
    "\n",
    "Overall prompt: **Write a function called `dollars_to_pesos` that accepts an amount in US dollars and that RETURNS a string that indicates the equivalent amount in Philippine pesos.**  \n",
    "\n",
    "The program must follow these specifications: \n",
    "1. It is very important that your entire program is contained within a function. It is also very important that your output value is **returned** and not merely printed. This is to make sure that the function, when called, actually evaluates to a value instead of merely printing the calculated value out to the terminal. This is because the function, conceptually, is intended to be a utility function for further conversions, so it needs to evaluate to a value on its own.\n",
    "2. The function must accept the input through one parameter called `dollars`.\n",
    "3. The function must return a string that is formatted as follows: `{dollars} US dollar(s) = {pesos} Philippine pesos.`, where `dollars` is the amount of dollars given as input and where `pesos` is the equivalent amount of pesos for the given dollars. \n",
    "4. For simplicity, use the conversion rate \\$1 = PHP 50.  \n",
    "\n",
    "#### Sample Input and Output  \n",
    "\n",
    "Sample Input:  \n",
    "`Enter the amount in US Dollars: 1`  \n",
    "Sample Output:  \n",
    "`1 US dollar(s) = 50 Philippine Pesos.`  "
  ]
  },
  {
   "cell_type": "code",
   "execution_count": 28,
   "id": "f567345a",
   "metadata": {},
   "outputs": [
    {
     "data": {
      "text/plain": [
       "(1 US dollar(s) = 500 Philippine Pesos)"
      ]
     },
     "execution_count": 28,
     "metadata": {},
     "output_type": "execute_result"
    }
   ],
   "source": [
    "def dollars_to_pesos(dollars):\n",
    "    user_input = int(input('Enter the amount in US Dollars: '))\n",
    "    usd_to_php = 50 * user_input\n",
    "    return str(user_input) + \" US dollar(s) = \" + str(usd_to_php) + ' Philippine Pesos' \n",
    "\n",
    "dollars_to_pesos (10)"
   ]
  },
  {
   "cell_type": "markdown",
   "id": "2565a9a0",
   "metadata": {},
   "source": [
  "#Problem 2\n",
    "a = int(input('Enter the first number: '))\n",
    "b = int(input('Enter the second number: '))\n",
    "first_line = str(a + b)\n",
    "second_line = str(b - a)\n",
    "third_line = str(a * b)\n",
    "fourth_line = str(a // b)\n",
    "fifth_line = str(a % b)\n",
    "lst = [first_line, second_line, third_line, fourth_line, fifth_line]\n",
    "lst = '\\n'.join(lst)\n",
    "print(lst)"
   ]
  },
  {
   "cell_type": "code",
   "execution_count": 134,
   "metadata": {},
   "outputs": [
    {
     "data": {
      "text/plain": [
       "'BMI: 22.892819979188342'"
      ]
     },
     "execution_count": 134,
     "metadata": {},
     "output_type": "execute_result"
    }
   ],
   "source": [
    "# Problem 3"
    "### BMI Calculator  \n",
    "\n",
    "Overall prompt: **Write a function called `bmi` that computes for and _returns_ your Body Mass Index (BMI). The formula for BMI is as follows:**  \n",
    "\n",
    "`BMI = (kg) / (m^2)`  \n",
    "\n",
    "In the formula, `kg` is a person's weight in kilograms, and `m` is the person's height in meters.  \n",
    "\n",
    "The program must follow these specifications:  \n",
    "1. The function `bmi` must accept two parameters `kg` and `cm`, where `kg` is a person's weight in kilograms and `cm` is the person's height in _centimeters_.  \n",
    "2. The function must return a _float_. This float will be checked for computational accuracy within 4 decimal places.  \n",
    "\n",
    "#### Sample Input and Output\n",
    "\n",
    "Sample Input:  \n",
    "`kg = 65, cm = 180`  \n",
    "Sample Output:  \n",
    "`20.061728395061728`  "
   ]
  },
  {
   "cell_type": "code",
   "execution_count": 24,
   "id": "f668e163",
   "metadata": {},
   "outputs": [
    {
     "name": "stdout",
     "output_type": "stream",
     "text": [
      "Enter weight in kg: 10\n",
      "Enter height in cm: 10\n"
     ]
    },
    {
     "data": {
      "text/plain": [
       "999.9999999999998"
      ]
     },
     "execution_count": 24,
     "metadata": {},
     "output_type": "execute_result"
    }
   ],
   "source": [
    "def BMI_calc (weight, height):\n",
    "    m = cm /100\n",
    "    ans= (kg)/(m**2)\n",
    "    return ans\n",
    "\n",
    "kg = float (input(\"Enter weight in kg: \"))\n",
    "cm = float (input(\"Enter height in cm: \"))\n",
    "BMI_calc (kg,cm)"
   ]
  },
  {
   "cell_type": "code",
   "execution_count": null,
   "id": "4225ea11",
   "metadata": {},
   "outputs": [],
   "source": []
  }
 ],
 "metadata": {
  "kernelspec": {
   "display_name": "Python 3",
   "language": "python",
   "name": "python3"
  },
  "language_info": {
   "codemirror_mode": {
    "name": "ipython",
    "version": 3
   },
   "file_extension": ".py",
   "mimetype": "text/x-python",
   "name": "python",
   "nbconvert_exporter": "python",
   "pygments_lexer": "ipython3",
   "version": "3.8.8"
  }
 },
 "nbformat": 4,
 "nbformat_minor": 5
}
