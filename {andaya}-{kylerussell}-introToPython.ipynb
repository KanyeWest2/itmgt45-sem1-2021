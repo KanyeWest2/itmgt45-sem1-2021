{
 "cells": [
  {
   "cell_type": "markdown",
   "id": "bf1647d6",
   "metadata": {},
   "source": [
    "### Student Details\n",
    "###  ID Number: 19369\n",
    "### Surname: Cruz\n",
    "### Year and Course: 3BS ITE\n",
    "\n",
    "\n",
    "## Problem 1 (5 points)\n",
    "\n",
    "This is the only problem in this assignment.  \n",
    "\n",
    "Overall prompt:  \n",
    "**Write a program that prompts the user to input three positive integers and outputs the average of those three positive integers.**  \n",
    "\n",
    "The program must follow these specifications:  \n",
    "1. Accept the user's input numbers one at a time. Use this format:  \n",
    "`Enter first number: {firstnumber}`  \n",
    "`Enter second number: {secondnumber}`  \n",
    "`Enter third number: {thirdnumber}`  \n",
    "2. The output should display using this format:  \n",
    "`The average is {average}.`  \n",
    "3. The program must, at some point, call a function called `three_number_average` that accepts three arguments and returns the average of those three arguments.  \n",
    "\n",
    "### Sample input and output\n",
    "\n",
    "Sample Input:  \n",
    "`Enter first number: 1`  \n",
    "`Enter second number: 2`  \n",
    "`Enter third number: 3`  \n",
    "Sample Output:  \n",
    "`The average is 2.0`  \n",
    "\n",
    "Sample Input:  \n",
    "`Enter first number: 1`  \n",
    "`Enter second number: 1`  \n",
    "`Enter third number: 1`  \n",
    "Sample Output:  \n",
    "`The average is 1.0`  \n",
    "\n",
    "Sample Input:\n",
    "`Enter first number: 2`  \n",
    "`Enter second number: 4`  \n",
    "`Enter third number: 6`  \n",
    "Sample Output:  \n",
    "`The average is 4.0`  "
   ]
  },
  {
   "cell_type": "code",
   "execution_count": null,
   "id": "10243e03-a960-4dcd-8be1-4946fbfe84cf",
   "metadata": {},
   "outputs": [],
   "source": []
  }
 ],
 "metadata": {
  "kernelspec": {
   "display_name": "Python 3 (ipykernel)",
   "language": "python",
   "name": "python3"
  },
  "language_info": {
   "codemirror_mode": {
    "name": "ipython",
    "version": 3
   },
   "file_extension": ".py",
   "mimetype": "text/x-python",
   "name": "python",
   "nbconvert_exporter": "python",
   "pygments_lexer": "ipython3",
   "version": "3.8.10"
  }
 },
 "nbformat": 4,
 "nbformat_minor": 5
}
